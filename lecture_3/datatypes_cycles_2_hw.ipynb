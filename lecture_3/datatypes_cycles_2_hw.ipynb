{
 "cells": [
  {
   "cell_type": "code",
   "execution_count": 9,
   "metadata": {},
   "outputs": [
    {
     "name": "stdout",
     "output_type": "stream",
     "text": [
      "visit1 ['Москва', 'Россия']\n",
      "visit3 ['Владимир', 'Россия']\n",
      "visit7 ['Тула', 'Россия']\n",
      "visit8 ['Тула', 'Россия']\n",
      "visit9 ['Курск', 'Россия']\n",
      "visit10 ['Архангельск', 'Россия']\n"
     ]
    }
   ],
   "source": [
    "#Напишите код, который возвращает отфильтрованный список geo_logs, содержащий только визиты из России.\n",
    "geo_logs = [\n",
    "    {'visit1': ['Москва', 'Россия']},\n",
    "    {'visit2': ['Дели', 'Индия']},\n",
    "    {'visit3': ['Владимир', 'Россия']},\n",
    "    {'visit4': ['Лиссабон', 'Португалия']},\n",
    "    {'visit5': ['Париж', 'Франция']},\n",
    "    {'visit6': ['Лиссабон', 'Португалия']},\n",
    "    {'visit7': ['Тула', 'Россия']},\n",
    "    {'visit8': ['Тула', 'Россия']},\n",
    "    {'visit9': ['Курск', 'Россия']},\n",
    "    {'visit10': ['Архангельск', 'Россия']}\n",
    "]\n",
    "\n",
    "for line in geo_logs:\n",
    "    for visit, country in line.items():\n",
    "        #print(f'{country}')\n",
    "        if 'Россия' in country:\n",
    "            print(f'{visit} {country}')\n",
    "        \n"
   ]
  },
  {
   "cell_type": "code",
   "execution_count": 12,
   "metadata": {},
   "outputs": [
    {
     "name": "stdout",
     "output_type": "stream",
     "text": [
      "[213, 15, 54, 119, 98, 35]\n"
     ]
    }
   ],
   "source": [
    "#Выведите на экран все уникальные гео-ID из значений словаря ids. Т. е. список вида [213, 15, 54, 119, 98, 35]\n",
    "ids = {'user1': [213, 213, 213, 15, 213], \n",
    "       'user2': [54, 54, 119, 119, 119], \n",
    "       'user3': [213, 98, 98, 35]}\n",
    "\n",
    "unique = []\n",
    "for keys, values in ids.items():\n",
    "    for number in values:\n",
    "        if number not in unique:\n",
    "            unique.append(number)\n",
    "print(unique)\n",
    "            \n",
    "    "
   ]
  },
  {
   "cell_type": "code",
   "execution_count": 49,
   "metadata": {},
   "outputs": [
    {
     "name": "stdout",
     "output_type": "stream",
     "text": [
      "Запросы из 1 слова - 0.0%; 2 слов - 42.9%; 3 слов - 57.1%; 4 и более - 0.0%\n"
     ]
    }
   ],
   "source": [
    "#Получить распределение количества слов в них. Т. е. поисковых запросов из одного - слова 5%, из двух - 7%, из трех - 3% и т.д.\n",
    "\n",
    "queries = [\n",
    "    'смотреть сериалы онлайн',\n",
    "    'новости спорта',\n",
    "    'афиша кино',\n",
    "    'курс доллара',\n",
    "    'сериалы этим летом',\n",
    "    'курс по питону',\n",
    "    'сериалы про спорт',\n",
    "]\n",
    "\n",
    "\n",
    "result = {\n",
    "    'one': {'words': 0, 'percent': 0},\n",
    "    'two': {'words': 0, 'percent': 0},\n",
    "    'three': {'words': 0, 'percent': 0},\n",
    "    'other': {'words': 0, 'percent': 0},\n",
    "}\n",
    "\n",
    "\n",
    "for item in queries:\n",
    "    new_item = item.split(' ')\n",
    "    if len(new_item) == 1:\n",
    "        result['one']['words'] += 1\n",
    "    elif len(new_item) == 2:\n",
    "        result['two']['words'] += 1\n",
    "    elif len(new_item) == 3:\n",
    "        result['three']['words'] += 1\n",
    "    else:\n",
    "        result['other']['words'] += 1\n",
    "        \n",
    "interim_total = []\n",
    "for keys, values in result.items():\n",
    "    a = values['words']\n",
    "    interim_total.append(a)\n",
    "word_total = sum(interim_total)\n",
    "for keys, values in result.items(): #не понимаю, зачем писать эту строку опять, она же есть выше, но без нее не работает\n",
    "    values['percent'] = round((values['words'] / word_total *100), 1)\n",
    "    \n",
    "print(f\"Запросы из 1 слова - {result['one']['percent']}%; 2 слов - {result['two']['percent']}%; 3 слов - {result['three']['percent']}%; 4 и более - {result['other']['percent']}%\")\n",
    "\n",
    "\n",
    "        "
   ]
  },
  {
   "cell_type": "code",
   "execution_count": 9,
   "metadata": {},
   "outputs": [
    {
     "name": "stdout",
     "output_type": "stream",
     "text": [
      "yandex\n"
     ]
    }
   ],
   "source": [
    "#Напишите скрипт, который возвращает название канала с максимальным объемом. \n",
    "#Т. е. в данном примере скрипт должен возвращать 'yandex'.\n",
    "stats = {'facebook': 55, 'yandex': 120, 'vk': 115, 'google': 99, 'email': 42, 'ok': 98}\n",
    "\n",
    "for keys, values in stats.items():\n",
    "    max_value = max(stats.values())\n",
    "    if values == max_value:\n",
    "        print(keys)"
   ]
  },
  {
   "cell_type": "code",
   "execution_count": 7,
   "metadata": {},
   "outputs": [
    {
     "name": "stdout",
     "output_type": "stream",
     "text": [
      "{'2018-01-01': {'yandex'}}\n",
      "{'yandex': {'cpc'}}\n",
      "{'cpc': {100}}\n"
     ]
    }
   ],
   "source": [
    "list = ['2018-01-01', 'yandex', 'cpc', 100]\n",
    "for index, item in enumerate(list):\n",
    "    if index >= len(list) - 1: break;\n",
    "    dd = {list[index]: {list[index+1]}}\n",
    "    \n",
    "    \n",
    "  \n",
    "#не получается обратиться к элементам промежуточного листа dd,и почему-то не получается разделить запятыми элементы dd\n"
   ]
  },
  {
   "cell_type": "code",
   "execution_count": null,
   "metadata": {},
   "outputs": [],
   "source": []
  }
 ],
 "metadata": {
  "kernelspec": {
   "display_name": "Python 3",
   "language": "python",
   "name": "python3"
  },
  "language_info": {
   "codemirror_mode": {
    "name": "ipython",
    "version": 3
   },
   "file_extension": ".py",
   "mimetype": "text/x-python",
   "name": "python",
   "nbconvert_exporter": "python",
   "pygments_lexer": "ipython3",
   "version": "3.7.6"
  }
 },
 "nbformat": 4,
 "nbformat_minor": 4
}

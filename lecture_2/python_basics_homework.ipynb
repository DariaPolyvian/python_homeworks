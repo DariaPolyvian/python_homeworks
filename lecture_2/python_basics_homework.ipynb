{
 "cells": [
  {
   "cell_type": "markdown",
   "metadata": {},
   "source": [
    "**Задание 1**. Даны 2 строки: *long_phrase* и *short_phrase*. \n",
    "Напишите код, который проверяет действительно ли длинная фраза *long_phrase* длиннее короткой *short_phrase*. И выводит *True* или *False* в зависимости от результата сравнения."
   ]
  },
  {
   "cell_type": "code",
   "execution_count": null,
   "metadata": {},
   "outputs": [],
   "source": [
    "long_phrase = 'Насколько проще было бы писать программы, если бы не заказчики'\n",
    "short_phrase = '640Кб должно хватить для любых задач. Билл Гейтс (по легенде)'"
   ]
  },
  {
   "cell_type": "code",
   "execution_count": 2,
   "metadata": {},
   "outputs": [
    {
     "name": "stdout",
     "output_type": "stream",
     "text": [
      "true: the long phrase is truly longer\n"
     ]
    }
   ],
   "source": [
    "long_phrase = 'Насколько проще было бы писать программы, если бы не заказчики'\n",
    "short_phrase = '640Кб должно хватить для любых задач. Билл Гейтс (по легенде)'\n",
    "if len(long_phrase) > len(short_phrase):\n",
    "    print('true: the long phrase is truly longer')\n",
    "elif len(long_phrase) == len(short_phrase): \n",
    "    print('the phrases are equal')\n",
    "else:\n",
    "    print('false: the long phrase is shorter')\n",
    "    "
   ]
  },
  {
   "cell_type": "markdown",
   "metadata": {},
   "source": [
    "**Задание 2**. Дано значение объема файла в байтах (*в мегабайте 2^20 байт*). Напишите перевод этого значения в мегабайты в формате: \"*Объем файла равен 213.68Mb*\"."
   ]
  },
  {
   "cell_type": "code",
   "execution_count": 4,
   "metadata": {},
   "outputs": [
    {
     "name": "stdout",
     "output_type": "stream",
     "text": [
      "Enter the file size in bytes2000\n",
      "file size is 0.0019073486328125 megabytes\n"
     ]
    }
   ],
   "source": [
    "x = int(input('Enter the file size in bytes'))\n",
    "\n",
    "y = x/(2**20)\n",
    "print('file size is', y, 'megabytes')\n",
    "\n",
    "\n"
   ]
  },
  {
   "cell_type": "code",
   "execution_count": 6,
   "metadata": {},
   "outputs": [
    {
     "name": "stdout",
     "output_type": "stream",
     "text": [
      "Enter the day of your birth in the format from 1 to 31:31\n",
      "Enter the month of your birth in the format from 1 to 12:2\n",
      "Invalid data input\n"
     ]
    }
   ],
   "source": [
    "d = int(input('Enter the day of your birth in the format from 1 to 31:'))\n",
    "m = int(input('Enter the month of your birth in the format from 1 to 12:'))\n",
    "\n",
    "if m==1 and d <= 20 and d >= 1:\n",
    "    print('capricorn')\n",
    "elif m==1 and d > 20 and d <= 31:\n",
    "    print('aquarius')\n",
    "elif m==2 and d <= 20 and d >= 1:\n",
    "    print('aquarius')\n",
    "elif m==2 and d > 20 and d <= 29:\n",
    "    print('pisces')\n",
    "elif m==3 and d <= 20 and d >= 1:\n",
    "    print('pisces')\n",
    "elif m==3 and d > 20 and d <= 31:\n",
    "    print('aries')\n",
    "elif m==4 and d <= 20 and d >= 1:\n",
    "    print('aries')\n",
    "elif m==4 and d > 20 and d <= 30:\n",
    "    print('taurus')\n",
    "elif m==5 and d <= 20 and d >= 1:\n",
    "    print('taurus')\n",
    "elif m==5 and d > 20 and d <= 31:\n",
    "    print('gemini')\n",
    "elif m==6 and d <= 20 and d >= 1:\n",
    "    print('gemini')\n",
    "elif m==6 and d > 20 and d <= 30:\n",
    "    print('cancer')\n",
    "elif m==7 and d <= 20 and d >= 1:\n",
    "    print('cancer')\n",
    "elif m==7 and d > 20 and d <= 31:\n",
    "    print('leo')\n",
    "elif m==8 and d <= 20 and d >= 1:\n",
    "    print('leo')\n",
    "elif m==8 and d > 20 and d <= 31:\n",
    "    print('virgo')\n",
    "elif m==9 and d <= 20 and d >= 1:\n",
    "    print('virgo')\n",
    "elif m==9 and d > 20 and d <= 30:\n",
    "    print('libra')\n",
    "elif m==10 and d <= 20 and d >= 1:\n",
    "    print('libra')\n",
    "elif m==10 and d > 20 and d <= 31:\n",
    "    print('scorpio')\n",
    "elif m==11 and d <= 20 and d >= 1:\n",
    "    print('scorpio')\n",
    "elif m==11 and d > 20 and d <= 30:\n",
    "    print('saggitarius')\n",
    "elif m==12 and d <= 20 and d >= 1:\n",
    "    print('saggitarius')\n",
    "elif m==12 and d > 20 and d <= 31:\n",
    "    print('capricorn')\n",
    "else:\n",
    "    print('Invalid data input')"
   ]
  },
  {
   "cell_type": "markdown",
   "metadata": {},
   "source": [
    "**Задание 3**. Разработать приложение для определения знака зодиака по дате рождения. Пример:\n",
    "\n",
    "Введите месяц: март\n",
    "\n",
    "Введите число: 6\n",
    "\n",
    "Вывод:\n",
    "Рыбы"
   ]
  },
  {
   "cell_type": "code",
   "execution_count": null,
   "metadata": {},
   "outputs": [],
   "source": []
  },
  {
   "cell_type": "markdown",
   "metadata": {},
   "source": [
    "**Задание 4**. Нужно разработать приложение для финансового планирования.\n",
    "Приложение учитывает сколько уходит на ипотеку, \"на жизнь\" и сколько нужно отложить на пенсию.\n",
    "Пользователь вводит:\n",
    "- заработанную плату в месяц.\n",
    "- сколько процентов от ЗП уходит на ипотеку.\n",
    "- сколько процентов от ЗП уходит \"на жизнь\".\n",
    "- сколько раз приходит премия в год.\n",
    "\n",
    "Остальная часть заработанной платы откладывается на пенсию.\n",
    "\n",
    "Также пользователю приходит премия в размере зарплаты, от которой половина уходит на отпуск, а вторая половина откладывается.\n",
    "\n",
    "Программа должна учитывать сколько премий было в год.\n",
    "\n",
    "Нужно вывести сколько денег тратит пользователь на ипотеку и сколько он накопит за год.\n",
    "\n",
    "Пример:\n",
    "\n",
    "Введите заработанную плату в месяц: 100000\n",
    "\n",
    "Введите сколько процентов уходит на ипотеку: 30\n",
    "\n",
    "Введите сколько процентов уходит на жизнь: 50\n",
    "\n",
    "Введите количество премий за год: 2\n",
    "\n",
    "Вывод:\n",
    "На ипотеку было потрачено: 360000 рублей\n",
    "Было накоплено: 340000 рублей"
   ]
  },
  {
   "cell_type": "code",
   "execution_count": 3,
   "metadata": {},
   "outputs": [
    {
     "name": "stdout",
     "output_type": "stream",
     "text": [
      "Введите заработную плату в месяц100000\n",
      "Укажите, какой процент от зарплаты тратится на ипотеку30\n",
      "Укажите, какой процент от зарплаты тратится на проживание50\n",
      "Укажите количество премий за год2\n",
      "На ипотеку было потрачено: 360000.0 рублей\n",
      "Было накоплено: 339999.99999999994 рублей\n"
     ]
    }
   ],
   "source": [
    "salary = int(input('Введите заработную плату в месяц'))\n",
    "mortgage = int(input('Укажите, какой процент от зарплаты тратится на ипотеку'))\n",
    "living = int(input('Укажите, какой процент от зарплаты тратится на проживание'))\n",
    "bonus_count = int(input('Укажите количество премий за год'))\n",
    "mortgage_total = 12*salary*mortgage/100\n",
    "savings = 12*salary * (1 - mortgage/100 - living/100) + bonus_count*salary*0.5\n",
    "print('На ипотеку было потрачено:', mortgage_total, 'рублей')\n",
    "print('Было накоплено:', savings, 'рублей')"
   ]
  },
  {
   "cell_type": "code",
   "execution_count": null,
   "metadata": {},
   "outputs": [],
   "source": []
  }
 ],
 "metadata": {
  "kernelspec": {
   "display_name": "Python 3",
   "language": "python",
   "name": "python3"
  },
  "language_info": {
   "codemirror_mode": {
    "name": "ipython",
    "version": 3
   },
   "file_extension": ".py",
   "mimetype": "text/x-python",
   "name": "python",
   "nbconvert_exporter": "python",
   "pygments_lexer": "ipython3",
   "version": "3.7.6"
  }
 },
 "nbformat": 4,
 "nbformat_minor": 2
}
